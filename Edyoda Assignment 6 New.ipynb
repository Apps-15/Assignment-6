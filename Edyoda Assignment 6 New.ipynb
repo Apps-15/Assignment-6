{
 "cells": [
  {
   "cell_type": "code",
   "execution_count": 2,
   "metadata": {},
   "outputs": [
    {
     "name": "stdout",
     "output_type": "stream",
     "text": [
      "List of Employee objects:\n",
      "Name: John, DOB: 1990-05-15, Height: 175, City: Mumbai, State: Maharashtra\n",
      "Name: Alice, DOB: 1985-08-22, Height: 162, City: Bangalore, State: Karnataka\n",
      "Name: Bob, DOB: 1992-03-10, Height: 180, City: Delhi, State: Delhi\n",
      "Name: Eva, DOB: 1994-11-02, Height: 170, City: Kolkata, State: West Bengal\n",
      "Name: Michael, DOB: 1988-07-18, Height: 185, City: Chennai, State: Tamil Nadu\n"
     ]
    }
   ],
   "source": [
    "import json\n",
    "\n",
    "class Employee:\n",
    "    def __init__(self, name, dob, height, city, state):\n",
    "        self.name = name\n",
    "        self.dob = dob\n",
    "        self.height = height\n",
    "        self.city = city\n",
    "        self.state = state\n",
    "\n",
    "def create_employee_json():\n",
    "    employees = [\n",
    "        {\"name\": \"John\", \"dob\": \"1990-05-15\", \"height\": 175, \"city\": \"Mumbai\", \"state\": \"Maharashtra\"},\n",
    "        {\"name\": \"Alice\", \"dob\": \"1985-08-22\", \"height\": 162, \"city\": \"Bangalore\", \"state\": \"Karnataka\"},\n",
    "        {\"name\": \"Bob\", \"dob\": \"1992-03-10\", \"height\": 180, \"city\": \"Delhi\", \"state\": \"Delhi\"},\n",
    "        {\"name\": \"Eva\", \"dob\": \"1994-11-02\", \"height\": 170, \"city\": \"Kolkata\", \"state\": \"West Bengal\"},\n",
    "        {\"name\": \"Michael\", \"dob\": \"1988-07-18\", \"height\": 185, \"city\": \"Chennai\", \"state\": \"Tamil Nadu\"}\n",
    "    ]\n",
    "    \n",
    "    with open(\"employee.json\", \"w\") as json_file:\n",
    "        json.dump(employees, json_file, indent=4)\n",
    "\n",
    "def read_employee_json():\n",
    "    employee_list = []\n",
    "    \n",
    "    with open(\"employee.json\", \"r\") as json_file:\n",
    "        employees = json.load(json_file)\n",
    "        for emp in employees:\n",
    "            employee_list.append(Employee(emp[\"name\"], emp[\"dob\"], emp[\"height\"], emp[\"city\"], emp[\"state\"]))\n",
    "    \n",
    "    return employee_list\n",
    "\n",
    "def main():\n",
    "    create_employee_json()\n",
    "    employees = read_employee_json()\n",
    "    \n",
    "    print(\"List of Employee objects:\")\n",
    "    for emp in employees:\n",
    "        print(f\"Name: {emp.name}, DOB: {emp.dob}, Height: {emp.height}, City: {emp.city}, State: {emp.state}\")\n",
    "\n",
    "if __name__ == \"__main__\":\n",
    "    main()\n"
   ]
  },
  {
   "cell_type": "code",
   "execution_count": 3,
   "metadata": {},
   "outputs": [
    {
     "name": "stdout",
     "output_type": "stream",
     "text": [
      "Buddy is 3 years old.\n",
      "Buddy's coat color is white and brown.\n",
      "Buddy is known for its energetic and lively nature.\n",
      "Max is 5 years old.\n",
      "Max's coat color is brindle.\n",
      "Max has a distinctive wrinkled face and muscular build.\n"
     ]
    }
   ],
   "source": [
    "class Dog:\n",
    "    def __init__(self, name, age, coat_color):\n",
    "        self.name = name\n",
    "        self.age = age\n",
    "        self.coat_color = coat_color\n",
    "    \n",
    "    def description(self):\n",
    "        print(f\"{self.name} is {self.age} years old.\")\n",
    "    \n",
    "    def get_info(self):\n",
    "        print(f\"{self.name}'s coat color is {self.coat_color}.\")\n",
    "\n",
    "class JackRussellTerrier(Dog):\n",
    "    def __init__(self, name, age, coat_color):\n",
    "        super().__init__(name, age, coat_color)\n",
    "    \n",
    "    def special_ability(self):\n",
    "        print(f\"{self.name} is known for its energetic and lively nature.\")\n",
    "\n",
    "class Bulldog(Dog):\n",
    "    def __init__(self, name, age, coat_color):\n",
    "        super().__init__(name, age, coat_color)\n",
    "    \n",
    "    def special_feature(self):\n",
    "        print(f\"{self.name} has a distinctive wrinkled face and muscular build.\")\n",
    "\n",
    "def main():\n",
    "    dog1 = JackRussellTerrier(\"Buddy\", 3, \"white and brown\")\n",
    "    dog2 = Bulldog(\"Max\", 5, \"brindle\")\n",
    "\n",
    "    dog1.description()\n",
    "    dog1.get_info()\n",
    "    dog1.special_ability()\n",
    "\n",
    "    dog2.description()\n",
    "    dog2.get_info()\n",
    "    dog2.special_feature()\n",
    "\n",
    "if __name__ == \"__main__\":\n",
    "    main()\n"
   ]
  }
 ],
 "metadata": {
  "kernelspec": {
   "display_name": "Python 3",
   "language": "python",
   "name": "python3"
  },
  "language_info": {
   "codemirror_mode": {
    "name": "ipython",
    "version": 3
   },
   "file_extension": ".py",
   "mimetype": "text/x-python",
   "name": "python",
   "nbconvert_exporter": "python",
   "pygments_lexer": "ipython3",
   "version": "3.11.4"
  },
  "orig_nbformat": 4
 },
 "nbformat": 4,
 "nbformat_minor": 2
}
